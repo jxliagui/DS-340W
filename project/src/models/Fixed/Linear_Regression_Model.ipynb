{
 "cells": [
  {
   "cell_type": "markdown",
   "metadata": {},
   "source": [
    "# Linear Regression Model"
   ]
  },
  {
   "cell_type": "markdown",
   "metadata": {},
   "source": [
    "## Step 1: Import packages and set working directory"
   ]
  },
  {
   "cell_type": "code",
   "execution_count": 1,
   "metadata": {},
   "outputs": [],
   "source": [
    "# Import packages\n",
    "import pandas as pd\n",
    "import numpy as np\n",
    "import seaborn as sb \n",
    "import matplotlib.pyplot as plt\n",
    "from sklearn.linear_model import LinearRegression\n",
    "from sklearn.model_selection import train_test_split, cross_val_score, GridSearchCV\n",
    "from sklearn.metrics import mean_squared_error, r2_score, mean_absolute_error"
   ]
  },
  {
   "cell_type": "code",
   "execution_count": 2,
   "metadata": {},
   "outputs": [],
   "source": [
    "# Optional Code: Here's a format for setting working directory, change as needed\n",
    "import os\n",
    "# os.chdir('/path/to/the/project')\n",
    "os.chdir('/Users/zihanji/Desktop/DS340W')"
   ]
  },
  {
   "cell_type": "markdown",
   "metadata": {},
   "source": [
    "## Step 2: Load the final cleaned data"
   ]
  },
  {
   "cell_type": "code",
   "execution_count": 3,
   "metadata": {},
   "outputs": [],
   "source": [
    "data_final = pd.read_csv('./project/volume/data/processed/data_final.csv')"
   ]
  },
  {
   "cell_type": "markdown",
   "metadata": {},
   "source": [
    "## Step 3: Take a look at the final data"
   ]
  },
  {
   "cell_type": "code",
   "execution_count": 4,
   "metadata": {},
   "outputs": [
    {
     "data": {
      "text/html": [
       "<div>\n",
       "<style scoped>\n",
       "    .dataframe tbody tr th:only-of-type {\n",
       "        vertical-align: middle;\n",
       "    }\n",
       "\n",
       "    .dataframe tbody tr th {\n",
       "        vertical-align: top;\n",
       "    }\n",
       "\n",
       "    .dataframe thead th {\n",
       "        text-align: right;\n",
       "    }\n",
       "</style>\n",
       "<table border=\"1\" class=\"dataframe\">\n",
       "  <thead>\n",
       "    <tr style=\"text-align: right;\">\n",
       "      <th></th>\n",
       "      <th>MS SubClass</th>\n",
       "      <th>Lot Frontage</th>\n",
       "      <th>Lot Area</th>\n",
       "      <th>Overall Qual</th>\n",
       "      <th>Overall Cond</th>\n",
       "      <th>Mas Vnr Area</th>\n",
       "      <th>BsmtFin SF 1</th>\n",
       "      <th>Bsmt Unf SF</th>\n",
       "      <th>Total Bsmt SF</th>\n",
       "      <th>1st Flr SF</th>\n",
       "      <th>...</th>\n",
       "      <th>Sale Type_New</th>\n",
       "      <th>Sale Type_Oth</th>\n",
       "      <th>Sale Type_VWD</th>\n",
       "      <th>Sale Type_WD</th>\n",
       "      <th>Sale Condition_Abnorml</th>\n",
       "      <th>Sale Condition_AdjLand</th>\n",
       "      <th>Sale Condition_Alloca</th>\n",
       "      <th>Sale Condition_Family</th>\n",
       "      <th>Sale Condition_Normal</th>\n",
       "      <th>Sale Condition_Partial</th>\n",
       "    </tr>\n",
       "  </thead>\n",
       "  <tbody>\n",
       "    <tr>\n",
       "      <th>0</th>\n",
       "      <td>3.044522</td>\n",
       "      <td>4.955827</td>\n",
       "      <td>10.366309</td>\n",
       "      <td>6</td>\n",
       "      <td>1.791759</td>\n",
       "      <td>4.727388</td>\n",
       "      <td>6.461468</td>\n",
       "      <td>6.091310</td>\n",
       "      <td>6.985642</td>\n",
       "      <td>7.412764</td>\n",
       "      <td>...</td>\n",
       "      <td>False</td>\n",
       "      <td>False</td>\n",
       "      <td>False</td>\n",
       "      <td>True</td>\n",
       "      <td>False</td>\n",
       "      <td>False</td>\n",
       "      <td>False</td>\n",
       "      <td>False</td>\n",
       "      <td>True</td>\n",
       "      <td>False</td>\n",
       "    </tr>\n",
       "    <tr>\n",
       "      <th>1</th>\n",
       "      <td>3.044522</td>\n",
       "      <td>4.394449</td>\n",
       "      <td>9.360741</td>\n",
       "      <td>5</td>\n",
       "      <td>1.945910</td>\n",
       "      <td>0.000000</td>\n",
       "      <td>6.150603</td>\n",
       "      <td>5.602119</td>\n",
       "      <td>6.783325</td>\n",
       "      <td>6.799056</td>\n",
       "      <td>...</td>\n",
       "      <td>False</td>\n",
       "      <td>False</td>\n",
       "      <td>False</td>\n",
       "      <td>True</td>\n",
       "      <td>False</td>\n",
       "      <td>False</td>\n",
       "      <td>False</td>\n",
       "      <td>False</td>\n",
       "      <td>True</td>\n",
       "      <td>False</td>\n",
       "    </tr>\n",
       "    <tr>\n",
       "      <th>2</th>\n",
       "      <td>3.044522</td>\n",
       "      <td>4.406719</td>\n",
       "      <td>9.565775</td>\n",
       "      <td>6</td>\n",
       "      <td>1.945910</td>\n",
       "      <td>4.691348</td>\n",
       "      <td>6.828712</td>\n",
       "      <td>6.008813</td>\n",
       "      <td>7.192934</td>\n",
       "      <td>7.192934</td>\n",
       "      <td>...</td>\n",
       "      <td>False</td>\n",
       "      <td>False</td>\n",
       "      <td>False</td>\n",
       "      <td>True</td>\n",
       "      <td>False</td>\n",
       "      <td>False</td>\n",
       "      <td>False</td>\n",
       "      <td>False</td>\n",
       "      <td>True</td>\n",
       "      <td>False</td>\n",
       "    </tr>\n",
       "    <tr>\n",
       "      <th>3</th>\n",
       "      <td>3.044522</td>\n",
       "      <td>4.543295</td>\n",
       "      <td>9.320181</td>\n",
       "      <td>7</td>\n",
       "      <td>1.791759</td>\n",
       "      <td>0.000000</td>\n",
       "      <td>6.971669</td>\n",
       "      <td>6.952729</td>\n",
       "      <td>7.654917</td>\n",
       "      <td>7.654917</td>\n",
       "      <td>...</td>\n",
       "      <td>False</td>\n",
       "      <td>False</td>\n",
       "      <td>False</td>\n",
       "      <td>True</td>\n",
       "      <td>False</td>\n",
       "      <td>False</td>\n",
       "      <td>False</td>\n",
       "      <td>False</td>\n",
       "      <td>True</td>\n",
       "      <td>False</td>\n",
       "    </tr>\n",
       "    <tr>\n",
       "      <th>4</th>\n",
       "      <td>4.110874</td>\n",
       "      <td>4.317488</td>\n",
       "      <td>9.534668</td>\n",
       "      <td>5</td>\n",
       "      <td>1.791759</td>\n",
       "      <td>0.000000</td>\n",
       "      <td>6.674561</td>\n",
       "      <td>4.927254</td>\n",
       "      <td>6.834109</td>\n",
       "      <td>6.834109</td>\n",
       "      <td>...</td>\n",
       "      <td>False</td>\n",
       "      <td>False</td>\n",
       "      <td>False</td>\n",
       "      <td>True</td>\n",
       "      <td>False</td>\n",
       "      <td>False</td>\n",
       "      <td>False</td>\n",
       "      <td>False</td>\n",
       "      <td>True</td>\n",
       "      <td>False</td>\n",
       "    </tr>\n",
       "    <tr>\n",
       "      <th>...</th>\n",
       "      <td>...</td>\n",
       "      <td>...</td>\n",
       "      <td>...</td>\n",
       "      <td>...</td>\n",
       "      <td>...</td>\n",
       "      <td>...</td>\n",
       "      <td>...</td>\n",
       "      <td>...</td>\n",
       "      <td>...</td>\n",
       "      <td>...</td>\n",
       "      <td>...</td>\n",
       "      <td>...</td>\n",
       "      <td>...</td>\n",
       "      <td>...</td>\n",
       "      <td>...</td>\n",
       "      <td>...</td>\n",
       "      <td>...</td>\n",
       "      <td>...</td>\n",
       "      <td>...</td>\n",
       "      <td>...</td>\n",
       "      <td>...</td>\n",
       "    </tr>\n",
       "    <tr>\n",
       "      <th>2925</th>\n",
       "      <td>4.394449</td>\n",
       "      <td>3.637586</td>\n",
       "      <td>8.979417</td>\n",
       "      <td>6</td>\n",
       "      <td>1.945910</td>\n",
       "      <td>0.000000</td>\n",
       "      <td>6.709304</td>\n",
       "      <td>5.220356</td>\n",
       "      <td>6.911747</td>\n",
       "      <td>6.911747</td>\n",
       "      <td>...</td>\n",
       "      <td>False</td>\n",
       "      <td>False</td>\n",
       "      <td>False</td>\n",
       "      <td>True</td>\n",
       "      <td>False</td>\n",
       "      <td>False</td>\n",
       "      <td>False</td>\n",
       "      <td>False</td>\n",
       "      <td>True</td>\n",
       "      <td>False</td>\n",
       "    </tr>\n",
       "    <tr>\n",
       "      <th>2926</th>\n",
       "      <td>3.044522</td>\n",
       "      <td>4.251699</td>\n",
       "      <td>9.092232</td>\n",
       "      <td>5</td>\n",
       "      <td>1.791759</td>\n",
       "      <td>0.000000</td>\n",
       "      <td>5.710427</td>\n",
       "      <td>5.480639</td>\n",
       "      <td>6.762730</td>\n",
       "      <td>6.805723</td>\n",
       "      <td>...</td>\n",
       "      <td>False</td>\n",
       "      <td>False</td>\n",
       "      <td>False</td>\n",
       "      <td>True</td>\n",
       "      <td>False</td>\n",
       "      <td>False</td>\n",
       "      <td>False</td>\n",
       "      <td>False</td>\n",
       "      <td>True</td>\n",
       "      <td>False</td>\n",
       "    </tr>\n",
       "    <tr>\n",
       "      <th>2927</th>\n",
       "      <td>4.454347</td>\n",
       "      <td>4.143135</td>\n",
       "      <td>9.253591</td>\n",
       "      <td>5</td>\n",
       "      <td>1.791759</td>\n",
       "      <td>0.000000</td>\n",
       "      <td>5.823046</td>\n",
       "      <td>6.356108</td>\n",
       "      <td>6.816736</td>\n",
       "      <td>6.878326</td>\n",
       "      <td>...</td>\n",
       "      <td>False</td>\n",
       "      <td>False</td>\n",
       "      <td>False</td>\n",
       "      <td>True</td>\n",
       "      <td>False</td>\n",
       "      <td>False</td>\n",
       "      <td>False</td>\n",
       "      <td>False</td>\n",
       "      <td>True</td>\n",
       "      <td>False</td>\n",
       "    </tr>\n",
       "    <tr>\n",
       "      <th>2928</th>\n",
       "      <td>3.044522</td>\n",
       "      <td>4.356709</td>\n",
       "      <td>9.211440</td>\n",
       "      <td>5</td>\n",
       "      <td>1.791759</td>\n",
       "      <td>0.000000</td>\n",
       "      <td>6.977281</td>\n",
       "      <td>5.278115</td>\n",
       "      <td>7.237059</td>\n",
       "      <td>7.237059</td>\n",
       "      <td>...</td>\n",
       "      <td>False</td>\n",
       "      <td>False</td>\n",
       "      <td>False</td>\n",
       "      <td>True</td>\n",
       "      <td>False</td>\n",
       "      <td>False</td>\n",
       "      <td>False</td>\n",
       "      <td>False</td>\n",
       "      <td>True</td>\n",
       "      <td>False</td>\n",
       "    </tr>\n",
       "    <tr>\n",
       "      <th>2929</th>\n",
       "      <td>4.110874</td>\n",
       "      <td>4.317488</td>\n",
       "      <td>9.172431</td>\n",
       "      <td>7</td>\n",
       "      <td>1.791759</td>\n",
       "      <td>4.553877</td>\n",
       "      <td>6.632002</td>\n",
       "      <td>5.476464</td>\n",
       "      <td>6.904751</td>\n",
       "      <td>6.904751</td>\n",
       "      <td>...</td>\n",
       "      <td>False</td>\n",
       "      <td>False</td>\n",
       "      <td>False</td>\n",
       "      <td>True</td>\n",
       "      <td>False</td>\n",
       "      <td>False</td>\n",
       "      <td>False</td>\n",
       "      <td>False</td>\n",
       "      <td>True</td>\n",
       "      <td>False</td>\n",
       "    </tr>\n",
       "  </tbody>\n",
       "</table>\n",
       "<p>2930 rows × 274 columns</p>\n",
       "</div>"
      ],
      "text/plain": [
       "      MS SubClass  Lot Frontage   Lot Area  Overall Qual  Overall Cond  \\\n",
       "0        3.044522      4.955827  10.366309             6      1.791759   \n",
       "1        3.044522      4.394449   9.360741             5      1.945910   \n",
       "2        3.044522      4.406719   9.565775             6      1.945910   \n",
       "3        3.044522      4.543295   9.320181             7      1.791759   \n",
       "4        4.110874      4.317488   9.534668             5      1.791759   \n",
       "...           ...           ...        ...           ...           ...   \n",
       "2925     4.394449      3.637586   8.979417             6      1.945910   \n",
       "2926     3.044522      4.251699   9.092232             5      1.791759   \n",
       "2927     4.454347      4.143135   9.253591             5      1.791759   \n",
       "2928     3.044522      4.356709   9.211440             5      1.791759   \n",
       "2929     4.110874      4.317488   9.172431             7      1.791759   \n",
       "\n",
       "      Mas Vnr Area  BsmtFin SF 1  Bsmt Unf SF  Total Bsmt SF  1st Flr SF  ...  \\\n",
       "0         4.727388      6.461468     6.091310       6.985642    7.412764  ...   \n",
       "1         0.000000      6.150603     5.602119       6.783325    6.799056  ...   \n",
       "2         4.691348      6.828712     6.008813       7.192934    7.192934  ...   \n",
       "3         0.000000      6.971669     6.952729       7.654917    7.654917  ...   \n",
       "4         0.000000      6.674561     4.927254       6.834109    6.834109  ...   \n",
       "...            ...           ...          ...            ...         ...  ...   \n",
       "2925      0.000000      6.709304     5.220356       6.911747    6.911747  ...   \n",
       "2926      0.000000      5.710427     5.480639       6.762730    6.805723  ...   \n",
       "2927      0.000000      5.823046     6.356108       6.816736    6.878326  ...   \n",
       "2928      0.000000      6.977281     5.278115       7.237059    7.237059  ...   \n",
       "2929      4.553877      6.632002     5.476464       6.904751    6.904751  ...   \n",
       "\n",
       "      Sale Type_New  Sale Type_Oth  Sale Type_VWD  Sale Type_WD   \\\n",
       "0             False          False          False           True   \n",
       "1             False          False          False           True   \n",
       "2             False          False          False           True   \n",
       "3             False          False          False           True   \n",
       "4             False          False          False           True   \n",
       "...             ...            ...            ...            ...   \n",
       "2925          False          False          False           True   \n",
       "2926          False          False          False           True   \n",
       "2927          False          False          False           True   \n",
       "2928          False          False          False           True   \n",
       "2929          False          False          False           True   \n",
       "\n",
       "      Sale Condition_Abnorml  Sale Condition_AdjLand  Sale Condition_Alloca  \\\n",
       "0                      False                   False                  False   \n",
       "1                      False                   False                  False   \n",
       "2                      False                   False                  False   \n",
       "3                      False                   False                  False   \n",
       "4                      False                   False                  False   \n",
       "...                      ...                     ...                    ...   \n",
       "2925                   False                   False                  False   \n",
       "2926                   False                   False                  False   \n",
       "2927                   False                   False                  False   \n",
       "2928                   False                   False                  False   \n",
       "2929                   False                   False                  False   \n",
       "\n",
       "      Sale Condition_Family  Sale Condition_Normal  Sale Condition_Partial  \n",
       "0                     False                   True                   False  \n",
       "1                     False                   True                   False  \n",
       "2                     False                   True                   False  \n",
       "3                     False                   True                   False  \n",
       "4                     False                   True                   False  \n",
       "...                     ...                    ...                     ...  \n",
       "2925                  False                   True                   False  \n",
       "2926                  False                   True                   False  \n",
       "2927                  False                   True                   False  \n",
       "2928                  False                   True                   False  \n",
       "2929                  False                   True                   False  \n",
       "\n",
       "[2930 rows x 274 columns]"
      ]
     },
     "execution_count": 4,
     "metadata": {},
     "output_type": "execute_result"
    }
   ],
   "source": [
    "data_final"
   ]
  },
  {
   "cell_type": "markdown",
   "metadata": {},
   "source": [
    "## Step 4: Building the linear regression model"
   ]
  },
  {
   "cell_type": "code",
   "execution_count": 5,
   "metadata": {},
   "outputs": [],
   "source": [
    "# Split the data to features and result\n",
    "x = data_final.drop('SalePrice', axis = 1)\n",
    "y = data_final['SalePrice']"
   ]
  },
  {
   "cell_type": "code",
   "execution_count": 6,
   "metadata": {},
   "outputs": [],
   "source": [
    "# Split the data to train and test, with test size being 20% of the data\n",
    "x_train, x_test, y_train, y_test = train_test_split(x, y, test_size = 0.2, random_state = 42)"
   ]
  },
  {
   "cell_type": "code",
   "execution_count": 7,
   "metadata": {},
   "outputs": [],
   "source": [
    "# Fit the model to built a prediction for x test\n",
    "linear = LinearRegression()\n",
    "linear.fit(x_train, y_train)\n",
    "linear_pred = linear.predict(x_test)"
   ]
  },
  {
   "cell_type": "markdown",
   "metadata": {},
   "source": [
    "## Step 5: Check for scores"
   ]
  },
  {
   "cell_type": "code",
   "execution_count": 8,
   "metadata": {},
   "outputs": [
    {
     "name": "stdout",
     "output_type": "stream",
     "text": [
      "Linear Regression Model Score:  0.934\n",
      "R Squared:  0.907\n",
      "Adjusted R Squared:  0.897\n",
      "Mean Squared Error:  0.017\n",
      "Root Mean Squared Error:  0.131\n",
      "Mean Absolute Error:  0.076\n",
      "Accuracy:  87.308 %\n"
     ]
    }
   ],
   "source": [
    "# Check for the score of the prediction\n",
    "linear_score = linear.score(x_train, y_train)\n",
    "print('Linear Regression Model Score: ', round(linear_score, 3))\n",
    "\n",
    "# R squared value\n",
    "r2 = r2_score(y_test, linear_pred)\n",
    "print('R Squared: ', round(r2, 3))\n",
    "\n",
    "# Adjusted R squared value\n",
    "adj_r2 = 1 - (1 - r2) * (len(y) - 1) / (len(y) - x.shape[1] - 1)\n",
    "print('Adjusted R Squared: ', round(adj_r2, 3))\n",
    "\n",
    "# Mean squared error\n",
    "mean_sq = mean_squared_error(y_test, linear_pred)\n",
    "print('Mean Squared Error: ', round(mean_sq, 3))\n",
    "\n",
    "# Root mean squared error\n",
    "root_mean_sq = np.sqrt(mean_sq)\n",
    "print('Root Mean Squared Error: ', round(root_mean_sq, 3))\n",
    "\n",
    "# Mean absolute error\n",
    "mean_ab = mean_absolute_error(y_test, linear_pred)\n",
    "print('Mean Absolute Error: ', round(mean_ab, 3))\n",
    "\n",
    "# Cross validation (or accuracy)\n",
    "cv = cross_val_score(linear, x, y, scoring = 'r2', cv = 5)\n",
    "print('Accuracy: ', round(cv.mean() * 100, 3), '%')"
   ]
  },
  {
   "cell_type": "markdown",
   "metadata": {},
   "source": [
    "## Step 6: Create visuals"
   ]
  },
  {
   "cell_type": "code",
   "execution_count": 9,
   "metadata": {},
   "outputs": [
    {
     "data": {
      "image/png": "[encoded data removed]",
      "text/plain": [
       "<Figure size 640x480 with 1 Axes>"
      ]
     },
     "metadata": {},
     "output_type": "display_data"
    }
   ],
   "source": [
    "actual_price = np.expm1(y_test)\n",
    "predicted_price = np.expm1(linear_pred)\n",
    "\n",
    "# Create a scatter plot\n",
    "plt.scatter(actual_price, predicted_price, c = 'crimson')\n",
    "\n",
    "# Draw the line of perfect prediction (where actual = predicted)\n",
    "p1 = max(max(predicted_price), max(actual_price))\n",
    "p2 = min(min(predicted_price), min(actual_price))\n",
    "plt.plot([p1, p2], [p1, p2], 'b-')\n",
    "\n",
    "# Add labels\n",
    "plt.xlabel('Actual Values', fontsize = 15)\n",
    "plt.ylabel('Predicted Values', fontsize = 15)\n",
    "\n",
    "# Make sure the axes are scaled equally\n",
    "plt.axis('equal')\n",
    "\n",
    "plt.show()"
   ]
  },
  {
   "cell_type": "code",
   "execution_count": 10,
   "metadata": {},
   "outputs": [
    {
     "data": {
      "text/plain": [
       "<seaborn.axisgrid.FacetGrid at 0x103f5bdc0>"
      ]
     },
     "execution_count": 10,
     "metadata": {},
     "output_type": "execute_result"
    },
    {
     "data": {
      "image/png": "[encoded data removed]",
      "text/plain": [
       "<Figure size 500x500 with 1 Axes>"
      ]
     },
     "metadata": {},
     "output_type": "display_data"
    }
   ],
   "source": [
    "# Distribution of residuals (difference between actual and predicted value)\n",
    "sb.displot((y_test - linear_pred), bins = 100, kde = True)"
   ]
  },
  {
   "cell_type": "markdown",
   "metadata": {},
   "source": [
    "## Step 7: Hyperparameter tuning (grid search)"
   ]
  },
  {
   "cell_type": "code",
   "execution_count": 11,
   "metadata": {},
   "outputs": [],
   "source": [
    "# Specifies hyperparameter options\n",
    "parameters = {'fit_intercept': [True, False], 'positive': [True, False], 'copy_X': [True, False]}"
   ]
  },
  {
   "cell_type": "code",
   "execution_count": 12,
   "metadata": {},
   "outputs": [
    {
     "data": {
      "text/plain": [
       "{'copy_X': True, 'fit_intercept': True, 'positive': False}"
      ]
     },
     "execution_count": 12,
     "metadata": {},
     "output_type": "execute_result"
    }
   ],
   "source": [
    "# Apply grid search to find the best hyperparameter option\n",
    "GS_CV_lin = GridSearchCV(estimator = linear, param_grid = parameters, cv = 5)\n",
    "GS_CV_lin.fit(x_train, y_train)\n",
    "GS_CV_lin.best_params_"
   ]
  },
  {
   "cell_type": "code",
   "execution_count": 13,
   "metadata": {},
   "outputs": [],
   "source": [
    "# Built a linear model with the new hyperparameter option\n",
    "# {'copy_X': True, 'fit_intercept': True, 'positive': False}\n",
    "linear_mod = LinearRegression(copy_X = True, fit_intercept = True, positive = False)\n",
    "linear_mod.fit(x_train, y_train)\n",
    "linear_pred = linear_mod.predict(x_test)"
   ]
  },
  {
   "attachments": {},
   "cell_type": "markdown",
   "metadata": {},
   "source": [
    "## Step 8: Check for scores"
   ]
  },
  {
   "cell_type": "code",
   "execution_count": 14,
   "metadata": {},
   "outputs": [
    {
     "name": "stdout",
     "output_type": "stream",
     "text": [
      "Linear Regression Model Score:  0.934\n",
      "R Squared:  0.907\n",
      "Adjusted R Squared:  0.897\n",
      "Mean Squared Error:  0.017\n",
      "Root Mean Squared Error:  0.131\n",
      "Mean Absolute Error:  0.076\n",
      "Accuracy:  87.308 %\n"
     ]
    }
   ],
   "source": [
    "# Check for the score of the prediction\n",
    "linear_mod_score = linear_mod.score(x_train, y_train)\n",
    "print('Linear Regression Model Score: ', round(linear_mod_score, 3))\n",
    "\n",
    "# R squared value\n",
    "r2 = r2_score(y_test, linear_pred)\n",
    "print('R Squared: ', round(r2, 3))\n",
    "\n",
    "# Adjusted R squared value\n",
    "adj_r2 = 1 - (1 - r2) * (len(y) - 1) / (len(y) - x.shape[1] - 1)\n",
    "print('Adjusted R Squared: ', round(adj_r2, 3))\n",
    "\n",
    "# Mean squared error\n",
    "mean_sq = mean_squared_error(y_test, linear_pred)\n",
    "print('Mean Squared Error: ', round(mean_sq, 3))\n",
    "\n",
    "# Root mean squared error\n",
    "root_mean_sq = np.sqrt(mean_sq)\n",
    "print('Root Mean Squared Error: ', round(root_mean_sq, 3))\n",
    "\n",
    "# Mean absolute error\n",
    "mean_ab = mean_absolute_error(y_test, linear_pred)\n",
    "print('Mean Absolute Error: ', round(mean_ab, 3))\n",
    "\n",
    "# Cross validation (or accuracy)\n",
    "cv = cross_val_score(linear_mod, x, y, scoring = 'r2', cv = 5)\n",
    "print('Accuracy: ', round(cv.mean() * 100, 3), '%')"
   ]
  },
  {
   "cell_type": "markdown",
   "metadata": {},
   "source": [
    "## Step 9: Create visuals"
   ]
  },
  {
   "cell_type": "code",
   "execution_count": 15,
   "metadata": {},
   "outputs": [
    {
     "data": {
      "image/png": "[encoded data removed]",
      "text/plain": [
       "<Figure size 640x480 with 1 Axes>"
      ]
     },
     "metadata": {},
     "output_type": "display_data"
    }
   ],
   "source": [
    "actual_price = np.expm1(y_test)\n",
    "predicted_price = np.expm1(linear_pred)\n",
    "\n",
    "# Create a scatter plot\n",
    "plt.scatter(actual_price, predicted_price, c = 'crimson')\n",
    "\n",
    "# Draw the line of perfect prediction (where actual = predicted)\n",
    "p1 = max(max(predicted_price), max(actual_price))\n",
    "p2 = min(min(predicted_price), min(actual_price))\n",
    "plt.plot([p1, p2], [p1, p2], 'b-')\n",
    "\n",
    "# Add labels\n",
    "plt.xlabel('Actual Values', fontsize = 15)\n",
    "plt.ylabel('Predicted Values', fontsize = 15)\n",
    "\n",
    "# Make sure the axes are scaled equally\n",
    "plt.axis('equal')\n",
    "\n",
    "plt.show()"
   ]
  },
  {
   "cell_type": "code",
   "execution_count": 16,
   "metadata": {},
   "outputs": [
    {
     "data": {
      "text/plain": [
       "<seaborn.axisgrid.FacetGrid at 0x1226b6b30>"
      ]
     },
     "execution_count": 16,
     "metadata": {},
     "output_type": "execute_result"
    },
    {
     "data": {
      "image/png": "[encoded data removed]",
      "text/plain": [
       "<Figure size 500x500 with 1 Axes>"
      ]
     },
     "metadata": {},
     "output_type": "display_data"
    }
   ],
   "source": [
    "# Distribution of residuals (difference between actual and predicted value)\n",
    "sb.displot((y_test - linear_pred), bins = 100, kde = True)"
   ]
  }
 ],
 "metadata": {
  "kernelspec": {
   "display_name": "Python 3",
   "language": "python",
   "name": "python3"
  },
  "language_info": {
   "codemirror_mode": {
    "name": "ipython",
    "version": 3
   },
   "file_extension": ".py",
   "mimetype": "text/x-python",
   "name": "python",
   "nbconvert_exporter": "python",
   "pygments_lexer": "ipython3",
   "version": "3.10.1"
  },
  "orig_nbformat": 4
 },
 "nbformat": 4,
 "nbformat_minor": 2
}
