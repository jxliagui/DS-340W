{
 "cells": [
  {
   "cell_type": "markdown",
   "metadata": {},
   "source": [
    "# Data Preparation Part 2"
   ]
  },
  {
   "cell_type": "markdown",
   "metadata": {},
   "source": [
    "## Step 1: Import packages and set working directory"
   ]
  },
  {
   "cell_type": "code",
   "execution_count": 1,
   "metadata": {},
   "outputs": [],
   "source": [
    "# Import packages\n",
    "import pandas as pd\n",
    "import numpy as np\n",
    "from scipy.stats import skew"
   ]
  },
  {
   "cell_type": "code",
   "execution_count": 2,
   "metadata": {},
   "outputs": [],
   "source": [
    "# Optional Code: Here's a format for setting working directory, change as needed\n",
    "import os\n",
    "# os.chdir('/path/to/the/project')\n",
    "os.chdir('/Users/zihanji/Desktop/DS340W')"
   ]
  },
  {
   "cell_type": "markdown",
   "metadata": {},
   "source": [
    "## Step 2: Load the cleaned data"
   ]
  },
  {
   "cell_type": "code",
   "execution_count": 3,
   "metadata": {},
   "outputs": [],
   "source": [
    "data_clean = pd.read_csv('./project/volume/data/interim/data_clean.csv')"
   ]
  },
  {
   "cell_type": "markdown",
   "metadata": {},
   "source": [
    "## Step 3: Check and handle skewness"
   ]
  },
  {
   "cell_type": "code",
   "execution_count": 4,
   "metadata": {},
   "outputs": [
    {
     "name": "stdout",
     "output_type": "stream",
     "text": [
      "Misc Val                21.988523\n",
      "Pool Area               16.930469\n",
      "Lot Area                12.814334\n",
      "Low Qual Fin SF         12.111957\n",
      "3Ssn Porch              11.397956\n",
      "Kitchen AbvGr            4.311616\n",
      "Enclosed Porch           4.012390\n",
      "Screen Porch             3.955441\n",
      "Bsmt Half Bath           3.940371\n",
      "Mas Vnr Area             2.615927\n",
      "Open Porch SF            2.534088\n",
      "Wood Deck SF             1.841735\n",
      "SalePrice                1.742607\n",
      "Lot Frontage             1.641697\n",
      "1st Flr SF               1.468676\n",
      "BsmtFin SF 1             1.415698\n",
      "MS SubClass              1.356884\n",
      "Gr Liv Area              1.273457\n",
      "Total Bsmt SF            1.155809\n",
      "Bsmt Unf SF              0.922737\n",
      "2nd Flr SF               0.866013\n",
      "TotRms AbvGrd            0.753157\n",
      "Fireplaces               0.738837\n",
      "Half Bath                0.697356\n",
      "Bsmt Full Bath           0.617411\n",
      "Overall Cond             0.574135\n",
      "Remodel Decade          -0.519341\n",
      "Built Decade            -0.626757\n",
      "Garage Yr Blt Decade    -0.748926\n",
      "dtype: float64\n"
     ]
    }
   ],
   "source": [
    "# Find continuous columns\n",
    "cont_cols = data_clean.dtypes[data_clean.dtypes != 'object'].index\n",
    "# Computes the skewness for each continuous column and sort them in order\n",
    "skew_cols = data_clean[cont_cols].apply(lambda x: skew(x)).sort_values(ascending = False)\n",
    "# Show the columns with high skewness (significant departure from normal distribution)\n",
    "skew_data = skew_cols[abs(skew_cols) > 0.5]\n",
    "print(skew_data)"
   ]
  },
  {
   "cell_type": "code",
   "execution_count": 5,
   "metadata": {},
   "outputs": [],
   "source": [
    "# Applies a logarithmic transformation\n",
    "for feature in skew_data.index:\n",
    "    data_clean[feature] = np.log1p(data_clean[feature])"
   ]
  },
  {
   "cell_type": "markdown",
   "metadata": {},
   "source": [
    "## Step 4: Check for numeric features' correlation with the SalePrice column (with skewness handled and use data_clean instead of data_cl)"
   ]
  },
  {
   "cell_type": "code",
   "execution_count": 6,
   "metadata": {},
   "outputs": [
    {
     "data": {
      "text/plain": [
       "SalePrice          1.000000\n",
       "Overall Qual       0.825645\n",
       "Gr Liv Area        0.723164\n",
       "Garage Cars        0.675312\n",
       "Garage Area        0.651126\n",
       "1st Flr SF         0.613423\n",
       "Built Decade       0.607287\n",
       "Remodel Decade     0.577667\n",
       "Full Bath          0.577335\n",
       "Fireplaces         0.508774\n",
       "TotRms AbvGrd      0.501151\n",
       "Open Porch SF      0.462735\n",
       "Mas Vnr Area       0.443864\n",
       "Total Bsmt SF      0.378429\n",
       "Lot Area           0.368499\n",
       "Wood Deck SF       0.353516\n",
       "Lot Frontage       0.326962\n",
       "Half Bath          0.311638\n",
       "Bsmt Full Bath     0.277084\n",
       "BsmtFin SF 1       0.243884\n",
       "Bsmt Unf SF        0.185021\n",
       "Bedroom AbvGr      0.180503\n",
       "2nd Flr SF         0.133177\n",
       "Screen Porch       0.099964\n",
       "Pool Area          0.063196\n",
       "3Ssn Porch         0.040973\n",
       "Mo Sold            0.038960\n",
       "Overall Cond       0.001764\n",
       "Bsmt Half Bath    -0.021348\n",
       "Yr Sold           -0.033131\n",
       "Misc Val          -0.051181\n",
       "Low Qual Fin SF   -0.063356\n",
       "Kitchen AbvGr     -0.123708\n",
       "Enclosed Porch    -0.220050\n",
       "Name: SalePrice, dtype: float64"
      ]
     },
     "execution_count": 6,
     "metadata": {},
     "output_type": "execute_result"
    }
   ],
   "source": [
    "Sales_cor = data_clean[data_clean.columns[1:]].corr(numeric_only = True)['SalePrice'][:-1]\n",
    "Sales_cor.sort_values(ascending = False)"
   ]
  },
  {
   "cell_type": "markdown",
   "metadata": {},
   "source": [
    "## Step 5: Converting categorical data to numerical"
   ]
  },
  {
   "cell_type": "code",
   "execution_count": 7,
   "metadata": {},
   "outputs": [
    {
     "data": {
      "text/html": [
       "<div>\n",
       "<style scoped>\n",
       "    .dataframe tbody tr th:only-of-type {\n",
       "        vertical-align: middle;\n",
       "    }\n",
       "\n",
       "    .dataframe tbody tr th {\n",
       "        vertical-align: top;\n",
       "    }\n",
       "\n",
       "    .dataframe thead th {\n",
       "        text-align: right;\n",
       "    }\n",
       "</style>\n",
       "<table border=\"1\" class=\"dataframe\">\n",
       "  <thead>\n",
       "    <tr style=\"text-align: right;\">\n",
       "      <th></th>\n",
       "      <th>MS SubClass</th>\n",
       "      <th>Lot Frontage</th>\n",
       "      <th>Lot Area</th>\n",
       "      <th>Overall Qual</th>\n",
       "      <th>Overall Cond</th>\n",
       "      <th>Mas Vnr Area</th>\n",
       "      <th>BsmtFin SF 1</th>\n",
       "      <th>Bsmt Unf SF</th>\n",
       "      <th>Total Bsmt SF</th>\n",
       "      <th>1st Flr SF</th>\n",
       "      <th>...</th>\n",
       "      <th>Sale Type_New</th>\n",
       "      <th>Sale Type_Oth</th>\n",
       "      <th>Sale Type_VWD</th>\n",
       "      <th>Sale Type_WD</th>\n",
       "      <th>Sale Condition_Abnorml</th>\n",
       "      <th>Sale Condition_AdjLand</th>\n",
       "      <th>Sale Condition_Alloca</th>\n",
       "      <th>Sale Condition_Family</th>\n",
       "      <th>Sale Condition_Normal</th>\n",
       "      <th>Sale Condition_Partial</th>\n",
       "    </tr>\n",
       "  </thead>\n",
       "  <tbody>\n",
       "    <tr>\n",
       "      <th>0</th>\n",
       "      <td>3.044522</td>\n",
       "      <td>4.955827</td>\n",
       "      <td>10.366309</td>\n",
       "      <td>6</td>\n",
       "      <td>1.791759</td>\n",
       "      <td>4.727388</td>\n",
       "      <td>6.461468</td>\n",
       "      <td>6.091310</td>\n",
       "      <td>6.985642</td>\n",
       "      <td>7.412764</td>\n",
       "      <td>...</td>\n",
       "      <td>False</td>\n",
       "      <td>False</td>\n",
       "      <td>False</td>\n",
       "      <td>True</td>\n",
       "      <td>False</td>\n",
       "      <td>False</td>\n",
       "      <td>False</td>\n",
       "      <td>False</td>\n",
       "      <td>True</td>\n",
       "      <td>False</td>\n",
       "    </tr>\n",
       "    <tr>\n",
       "      <th>1</th>\n",
       "      <td>3.044522</td>\n",
       "      <td>4.394449</td>\n",
       "      <td>9.360741</td>\n",
       "      <td>5</td>\n",
       "      <td>1.945910</td>\n",
       "      <td>0.000000</td>\n",
       "      <td>6.150603</td>\n",
       "      <td>5.602119</td>\n",
       "      <td>6.783325</td>\n",
       "      <td>6.799056</td>\n",
       "      <td>...</td>\n",
       "      <td>False</td>\n",
       "      <td>False</td>\n",
       "      <td>False</td>\n",
       "      <td>True</td>\n",
       "      <td>False</td>\n",
       "      <td>False</td>\n",
       "      <td>False</td>\n",
       "      <td>False</td>\n",
       "      <td>True</td>\n",
       "      <td>False</td>\n",
       "    </tr>\n",
       "    <tr>\n",
       "      <th>2</th>\n",
       "      <td>3.044522</td>\n",
       "      <td>4.406719</td>\n",
       "      <td>9.565775</td>\n",
       "      <td>6</td>\n",
       "      <td>1.945910</td>\n",
       "      <td>4.691348</td>\n",
       "      <td>6.828712</td>\n",
       "      <td>6.008813</td>\n",
       "      <td>7.192934</td>\n",
       "      <td>7.192934</td>\n",
       "      <td>...</td>\n",
       "      <td>False</td>\n",
       "      <td>False</td>\n",
       "      <td>False</td>\n",
       "      <td>True</td>\n",
       "      <td>False</td>\n",
       "      <td>False</td>\n",
       "      <td>False</td>\n",
       "      <td>False</td>\n",
       "      <td>True</td>\n",
       "      <td>False</td>\n",
       "    </tr>\n",
       "    <tr>\n",
       "      <th>3</th>\n",
       "      <td>3.044522</td>\n",
       "      <td>4.543295</td>\n",
       "      <td>9.320181</td>\n",
       "      <td>7</td>\n",
       "      <td>1.791759</td>\n",
       "      <td>0.000000</td>\n",
       "      <td>6.971669</td>\n",
       "      <td>6.952729</td>\n",
       "      <td>7.654917</td>\n",
       "      <td>7.654917</td>\n",
       "      <td>...</td>\n",
       "      <td>False</td>\n",
       "      <td>False</td>\n",
       "      <td>False</td>\n",
       "      <td>True</td>\n",
       "      <td>False</td>\n",
       "      <td>False</td>\n",
       "      <td>False</td>\n",
       "      <td>False</td>\n",
       "      <td>True</td>\n",
       "      <td>False</td>\n",
       "    </tr>\n",
       "    <tr>\n",
       "      <th>4</th>\n",
       "      <td>4.110874</td>\n",
       "      <td>4.317488</td>\n",
       "      <td>9.534668</td>\n",
       "      <td>5</td>\n",
       "      <td>1.791759</td>\n",
       "      <td>0.000000</td>\n",
       "      <td>6.674561</td>\n",
       "      <td>4.927254</td>\n",
       "      <td>6.834109</td>\n",
       "      <td>6.834109</td>\n",
       "      <td>...</td>\n",
       "      <td>False</td>\n",
       "      <td>False</td>\n",
       "      <td>False</td>\n",
       "      <td>True</td>\n",
       "      <td>False</td>\n",
       "      <td>False</td>\n",
       "      <td>False</td>\n",
       "      <td>False</td>\n",
       "      <td>True</td>\n",
       "      <td>False</td>\n",
       "    </tr>\n",
       "  </tbody>\n",
       "</table>\n",
       "<p>5 rows × 274 columns</p>\n",
       "</div>"
      ],
      "text/plain": [
       "   MS SubClass  Lot Frontage   Lot Area  Overall Qual  Overall Cond  \\\n",
       "0     3.044522      4.955827  10.366309             6      1.791759   \n",
       "1     3.044522      4.394449   9.360741             5      1.945910   \n",
       "2     3.044522      4.406719   9.565775             6      1.945910   \n",
       "3     3.044522      4.543295   9.320181             7      1.791759   \n",
       "4     4.110874      4.317488   9.534668             5      1.791759   \n",
       "\n",
       "   Mas Vnr Area  BsmtFin SF 1  Bsmt Unf SF  Total Bsmt SF  1st Flr SF  ...  \\\n",
       "0      4.727388      6.461468     6.091310       6.985642    7.412764  ...   \n",
       "1      0.000000      6.150603     5.602119       6.783325    6.799056  ...   \n",
       "2      4.691348      6.828712     6.008813       7.192934    7.192934  ...   \n",
       "3      0.000000      6.971669     6.952729       7.654917    7.654917  ...   \n",
       "4      0.000000      6.674561     4.927254       6.834109    6.834109  ...   \n",
       "\n",
       "   Sale Type_New  Sale Type_Oth  Sale Type_VWD  Sale Type_WD   \\\n",
       "0          False          False          False           True   \n",
       "1          False          False          False           True   \n",
       "2          False          False          False           True   \n",
       "3          False          False          False           True   \n",
       "4          False          False          False           True   \n",
       "\n",
       "   Sale Condition_Abnorml  Sale Condition_AdjLand  Sale Condition_Alloca  \\\n",
       "0                   False                   False                  False   \n",
       "1                   False                   False                  False   \n",
       "2                   False                   False                  False   \n",
       "3                   False                   False                  False   \n",
       "4                   False                   False                  False   \n",
       "\n",
       "   Sale Condition_Family  Sale Condition_Normal  Sale Condition_Partial  \n",
       "0                  False                   True                   False  \n",
       "1                  False                   True                   False  \n",
       "2                  False                   True                   False  \n",
       "3                  False                   True                   False  \n",
       "4                  False                   True                   False  \n",
       "\n",
       "[5 rows x 274 columns]"
      ]
     },
     "execution_count": 7,
     "metadata": {},
     "output_type": "execute_result"
    }
   ],
   "source": [
    "data_final = pd.get_dummies(data_clean)\n",
    "data_final.head()"
   ]
  },
  {
   "cell_type": "markdown",
   "metadata": {},
   "source": [
    "## Step 6: Save the data_final DataFrame to a CSV file\n",
    "data_final is the most advanced cleaned data, save in the processed folder"
   ]
  },
  {
   "cell_type": "code",
   "execution_count": 8,
   "metadata": {},
   "outputs": [],
   "source": [
    "data_final.to_csv('./project/volume/data/processed/data_clean.csv', index = False)"
   ]
  }
 ],
 "metadata": {
  "kernelspec": {
   "display_name": "Python 3",
   "language": "python",
   "name": "python3"
  },
  "language_info": {
   "codemirror_mode": {
    "name": "ipython",
    "version": 3
   },
   "file_extension": ".py",
   "mimetype": "text/x-python",
   "name": "python",
   "nbconvert_exporter": "python",
   "pygments_lexer": "ipython3",
   "version": "3.10.1"
  },
  "orig_nbformat": 4
 },
 "nbformat": 4,
 "nbformat_minor": 2
}
